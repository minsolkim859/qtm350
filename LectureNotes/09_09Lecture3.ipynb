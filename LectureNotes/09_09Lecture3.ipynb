{
 "cells": [
  {
   "cell_type": "markdown",
   "metadata": {},
   "source": [
    "ls-a:  list all the files \n",
    "\n",
    "cp: copy file \n",
    "\n",
    "mv: move a file from one directory to another. can also rename by type mv a.pdf b.pdf\n",
    "\n",
    "rmdir: remove directory \n",
    "\n",
    "rm-r: remove repository\n",
    "\n",
    "touch: `touch file` for instance creates files \n",
    "\n",
    "pwd: print working directory \n"
   ]
  },
  {
   "cell_type": "markdown",
   "metadata": {},
   "source": []
  }
 ],
 "metadata": {
  "language_info": {
   "name": "python"
  },
  "orig_nbformat": 4
 },
 "nbformat": 4,
 "nbformat_minor": 2
}
