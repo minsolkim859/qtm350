{
 "cells": [
  {
   "cell_type": "markdown",
   "metadata": {},
   "source": [
    "# QTM 350 - Data Science Computing\n",
    "\n",
    "## Assignment 01 - Computational Literacy\n",
    "### Due 11 September 2024\n",
    "\n",
    "### Instructions\n",
    "\n",
    "This assignment evaluates your understanding of topics covered in the first two weeks of class, including binary and hexadecimal number systems, ASCII encoding, and programming language fundamentals.\n",
    "\n",
    "You must complete this assignment individually. While you may use available resources such as notes, books, and AI tools, you are expected to submit original work. Please acknowledge all resources used, including input from classmates and AI. If you are unsure about permissible resources or proper acknowledgement, please consult the instructor.\n",
    "\n",
    "Present your solutions clearly and systematically, showing your problem-solving process. Please ensure that any code is well-commented.\n",
    "\n",
    "### Submission\n",
    "\n",
    "Please submit your solutions as either a single Jupyter notebook or a Quarto PDF file. Follow the instructions provided in each section carefully. Submit your completed assignment to Canvas or via email (danilo.freire@emory.edu) by Wednesday, September 11, at 11:59 PM."
   ]
  },
  {
   "cell_type": "markdown",
   "metadata": {},
   "source": [
    "### Question 01\n",
    "\n",
    "Convert the decimal number 53 to binary. Show your work."
   ]
  },
  {
   "cell_type": "markdown",
   "metadata": {},
   "source": [
    "**53 = (32 * 1) + (16 * 1) + (8 * 0) + (4 * 1) + (2 * 0) + (1 * 1)** \n",
    "\n",
    "**Binary Conversion of 53: 110101**"
   ]
  },
  {
   "cell_type": "markdown",
   "metadata": {},
   "source": [
    "### Question 02\n",
    "\n",
    "Convert the binary number 1011001 to decimal. Show your work."
   ]
  },
  {
   "cell_type": "markdown",
   "metadata": {},
   "source": [
    "**(64 * 1) + (32 * 0) + (16 * 1) + (8 * 1) + (4 * 0) + (2 * 0) + (1 * 1) = 89**\n",
    "\n",
    "**Decimal Conversion of 1011001: 89**"
   ]
  },
  {
   "cell_type": "markdown",
   "metadata": {},
   "source": [
    "### Question 03\n",
    "\n",
    "What is the hexadecimal representation of the RGB colour (128, 64, 255)? Explain your answer."
   ]
  },
  {
   "cell_type": "markdown",
   "metadata": {},
   "source": [
    "**Converting 128, 64 and 255 to hex codes**\n",
    "\n",
    "* **Red: 128 -> 128/16 = 8.0 -> 80**\n",
    "\n",
    "* **Green: 64 -> 64/16 = 4.0 -> 40**\n",
    "\n",
    "* **Blue: 255 -> 255/16 = 15 (remainder 15) -> FF**\n",
    "\n",
    "**Hexadecimal representation of RGB (128, 64, 255): #8040FF**"
   ]
  },
  {
   "cell_type": "markdown",
   "metadata": {},
   "source": [
    "### Question 04\n",
    "\n",
    "Convert the hexadecimal colour #2A9F3B to its RGB components. Show your steps."
   ]
  },
  {
   "cell_type": "markdown",
   "metadata": {},
   "source": [
    "**Red (2A): (2 * 16) + 10 = 42**\n",
    "\n",
    "**Green (9F): (9 * 16) + 15 = 159**\n",
    "\n",
    "**Blue (3B): (3 * 16) + 11 = 59**\n",
    "\n",
    "**Hexadecimal Color #2A9F3B = RGB (42, 159, 59)**"
   ]
  },
  {
   "cell_type": "markdown",
   "metadata": {},
   "source": [
    "### Question 05\n",
    "\n",
    "Using the coin representation system described in the lecture (c[quarters][dimes][nickels][pennies]), convert $1.37 to coin representation. Explain your reasoning."
   ]
  },
  {
   "cell_type": "markdown",
   "metadata": {},
   "source": [
    "**1.37 = (0.25 * 4) + (0.1 * 3) + (0.05 * 1) + (0.01 * 2)**\n",
    "\n",
    "**$1.37 = c4312**"
   ]
  },
  {
   "cell_type": "markdown",
   "metadata": {},
   "source": [
    "### Question 06\n",
    "\n",
    "What is the Unicode representation of the word \"Emory\"? Use the Unicode table provided in the lecture to find out."
   ]
  },
  {
   "cell_type": "markdown",
   "metadata": {},
   "source": [
    "**Unicode Representation of the word \"Emory\":**\n",
    "\n",
    " **\\u0045\\u006D\\u006F\\u0072\\u0079**"
   ]
  },
  {
   "cell_type": "markdown",
   "metadata": {},
   "source": [
    "### Question 07\n",
    "\n",
    "Explain the difference between ASCII and Unicode. Why was Unicode developed, and what advantages does it offer over ASCII?"
   ]
  },
  {
   "cell_type": "markdown",
   "metadata": {},
   "source": [
    "**Both ASCII and Unicode encodes texts into bits that can be interpreted by computers. The main difference between ASCII and Unicode is that ASCII can only encode english, unaccented letters whereas Unicode, developed much later, can encode accented characters, languages other than english, and even emojis.**"
   ]
  },
  {
   "cell_type": "markdown",
   "metadata": {},
   "source": [
    "### Question 08\n",
    "\n",
    "Describe the Von Neumann architecture and its significance in modern computing. What is the Von Neumann bottleneck, and how does it affect computer performance?"
   ]
  },
  {
   "cell_type": "markdown",
   "metadata": {},
   "source": [
    "**Von Neumann architecture refers to the system where a single slow storage medium is shared by both program instructions and data. Von Neumann architecture is significant in modern computing because it is the basis for almost all modern computers. The Von Neumann bottleneck occurs with combined memory bus for data and instructions as the CPU can only access one piece of information at a time and its sequential execution leads to delays where the CPU is waiting for the data to be retrieved.**"
   ]
  },
  {
   "cell_type": "markdown",
   "metadata": {},
   "source": [
    "### Question 09\n",
    "\n",
    "Compare and contrast low-level and high-level programming languages. Give two examples of each and explain when you might choose to use one over the other."
   ]
  },
  {
   "cell_type": "markdown",
   "metadata": {},
   "source": [
    "**Low-level languages are closer to machine code and are harder to read and write. It is less like human language, so it requires translation to comprehend. High-level language more resembles human language, and can be interpreted without knowledge of machine code. Assembly (Intel X86) and Machine Code are examples of a low-level language, and Python and R are examples of a high-level language. One may choose to use a lower-level language because they tend to produce faster output and a more efficient code. One may choose to use higher-level languages because it is easier for us to learn, read and write.**"
   ]
  },
  {
   "cell_type": "markdown",
   "metadata": {},
   "source": [
    "### Question 10\n",
    "\n",
    "Discuss the concept of abstraction in computer science, using the representation of images in computers as an example. How does this abstraction process impact data analysis and predictive modelling in image-related tasks?"
   ]
  },
  {
   "cell_type": "markdown",
   "metadata": {},
   "source": [
    "**Abstraction in computer science is the process of simplifying complex colors, images and texts and storing them as data. Computers store them as bits or numbers. Images, for example, are broken down to pixels and the colors in each pixels are represented as numbers (hexadecimal or RGB) that represents color intensities. Abstraction allows images to be stored more efficiently in compressed forms (as it is a list of numbers). This generalization also allows machines to better predict the most relevant patterns by analyzing how many pixels should the same colors be repeated and how each pixels should be arranged for it to be classified as an object in question.**"
   ]
  }
 ],
 "metadata": {
  "kernelspec": {
   "display_name": "base",
   "language": "python",
   "name": "python3"
  },
  "language_info": {
   "codemirror_mode": {
    "name": "ipython",
    "version": 3
   },
   "file_extension": ".py",
   "mimetype": "text/x-python",
   "name": "python",
   "nbconvert_exporter": "python",
   "pygments_lexer": "ipython3",
   "version": "3.12.2"
  }
 },
 "nbformat": 4,
 "nbformat_minor": 2
}
