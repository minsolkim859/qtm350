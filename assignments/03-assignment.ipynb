{
 "cells": [
  {
   "cell_type": "markdown",
   "metadata": {},
   "source": [
    "# QTM 350 - Data Science Computing\n",
    "\n",
    "## Assignment 03: Git\n",
    "### Due 25 September 2024\n",
    "#### Name: Minsol Kim\n",
    "\n",
    "In this assignment, you will practice some of the git commands covered in the last two lectures. You will complete a series of tasks and submit your work either as a Jupyter Notebook or a PDF document with screenshots. Please provide the commands you used for each step.\n",
    "\n",
    "### Instructions"
   ]
  },
  {
   "cell_type": "markdown",
   "metadata": {},
   "source": [
    "1. Create a new folder named `data_project` on your local machine. Initialise it as a git repository and verify its status. "
   ]
  },
  {
   "cell_type": "code",
   "execution_count": 9,
   "metadata": {},
   "outputs": [
    {
     "name": "stderr",
     "output_type": "stream",
     "text": [
      "hint: Using 'master' as the name for the initial branch. This default branch name\n",
      "hint: is subject to change. To configure the initial branch name to use in all\n",
      "hint: of your new repositories, which will suppress this warning, call:\n",
      "hint: \n",
      "hint: \tgit config --global init.defaultBranch <name>\n",
      "hint: \n",
      "hint: Names commonly chosen instead of 'master' are 'main', 'trunk' and\n",
      "hint: 'development'. The just-created branch can be renamed via this command:\n",
      "hint: \n",
      "hint: \tgit branch -m <name>\n"
     ]
    },
    {
     "name": "stdout",
     "output_type": "stream",
     "text": [
      "Initialized empty Git repository in /Users/mansol/Desktop/FALL_2024/QTM_350/qtm350/assignments/data_project/.git/\n",
      "On branch master\n",
      "\n",
      "No commits yet\n",
      "\n",
      "nothing to commit (create/copy files and use \"git add\" to track)\n"
     ]
    }
   ],
   "source": [
    "%%bash\n",
    "mkdir data_project\n",
    "cd data_project\n",
    "git init\n",
    "git status"
   ]
  },
  {
   "cell_type": "markdown",
   "metadata": {},
   "source": [
    "\n",
    "2. Inside the `data_project` directory, create three Python files: `data_cleaning.py`, `data_analysis.py`, and `visualisation.py`. Add all these files to the staging area. "
   ]
  },
  {
   "cell_type": "code",
   "execution_count": 10,
   "metadata": {},
   "outputs": [],
   "source": [
    "%%bash\n",
    "cd data_project\n",
    "touch data_cleaning.py data_analysis.py visualisation.py"
   ]
  },
  {
   "cell_type": "markdown",
   "metadata": {},
   "source": [
    "3. Commit the added Python files with the message \"Initial commit with data processing scripts\". \n"
   ]
  },
  {
   "cell_type": "code",
   "execution_count": 11,
   "metadata": {},
   "outputs": [
    {
     "name": "stdout",
     "output_type": "stream",
     "text": [
      "[master (root-commit) 1eb770d] Initial commit with data processing scripts\n",
      " 3 files changed, 0 insertions(+), 0 deletions(-)\n",
      " create mode 100644 data_analysis.py\n",
      " create mode 100644 data_cleaning.py\n",
      " create mode 100644 visualisation.py\n"
     ]
    }
   ],
   "source": [
    "%%bash\n",
    "cd data_project\n",
    "git add . \n",
    "git commit -m \"Initial commit with data processing scripts\""
   ]
  },
  {
   "cell_type": "markdown",
   "metadata": {},
   "source": [
    "4. Display the commit history of your repository.\n"
   ]
  },
  {
   "cell_type": "code",
   "execution_count": 12,
   "metadata": {},
   "outputs": [
    {
     "name": "stdout",
     "output_type": "stream",
     "text": [
      "commit 1eb770d10d14f6cb1d94ed118148000db47a1632\n",
      "Author: minsolkim859 <mkim859@emory.edu>\n",
      "Date:   Sun Sep 22 19:03:11 2024 -0400\n",
      "\n",
      "    Initial commit with data processing scripts\n"
     ]
    }
   ],
   "source": [
    "%%bash\n",
    "cd data_project\n",
    "git log"
   ]
  },
  {
   "cell_type": "markdown",
   "metadata": {},
   "source": [
    "5. Add a new function `clean_data()` in `data_cleaning.py`. After modifying the file, stage and commit the changes with the message \"Add clean_data function to data_cleaning.py\".\n"
   ]
  },
  {
   "cell_type": "code",
   "execution_count": 13,
   "metadata": {},
   "outputs": [
    {
     "name": "stdout",
     "output_type": "stream",
     "text": [
      "[master c416572] Add clean_data function to data_cleaning.py\n",
      " 1 file changed, 3 insertions(+)\n"
     ]
    }
   ],
   "source": [
    "%%bash\n",
    "cd data_project\n",
    "git add data_cleaning.py\n",
    "git commit -m \"Add clean_data function to data_cleaning.py\""
   ]
  },
  {
   "cell_type": "markdown",
   "metadata": {},
   "source": [
    "6. Create a new branch named `feature-exploration` and switch to it. "
   ]
  },
  {
   "cell_type": "code",
   "execution_count": 14,
   "metadata": {},
   "outputs": [
    {
     "name": "stderr",
     "output_type": "stream",
     "text": [
      "Switched to a new branch 'feature-exploration'\n"
     ]
    },
    {
     "name": "stdout",
     "output_type": "stream",
     "text": [
      "* feature-exploration\n",
      "  master\n"
     ]
    }
   ],
   "source": [
    "%%bash\n",
    "cd data_project\n",
    "git checkout -b feature-exploration\n",
    "git branch"
   ]
  },
  {
   "cell_type": "markdown",
   "metadata": {},
   "source": [
    "7. On the `feature-exploration` branch, add a new file `exploratory_analysis.py` and commit it with the message \"Add exploratory_analysis.py for initial data exploration\"\n"
   ]
  },
  {
   "cell_type": "code",
   "execution_count": 15,
   "metadata": {},
   "outputs": [
    {
     "name": "stdout",
     "output_type": "stream",
     "text": [
      "[feature-exploration eefd0e7] Add exploratory_analysis.py for initial data exploration\n",
      " 1 file changed, 0 insertions(+), 0 deletions(-)\n",
      " create mode 100644 exploratory_analysis.py\n"
     ]
    }
   ],
   "source": [
    "%%bash\n",
    "cd data_project\n",
    "touch exploratory_analysis.py\n",
    "git add exploratory_analysis.py\n",
    "git commit -m \"Add exploratory_analysis.py for initial data exploration\""
   ]
  },
  {
   "cell_type": "markdown",
   "metadata": {},
   "source": [
    "8. Switch back to the `main` (or `master`) branch from `feature-exploration`.\n"
   ]
  },
  {
   "cell_type": "code",
   "execution_count": 16,
   "metadata": {},
   "outputs": [
    {
     "name": "stderr",
     "output_type": "stream",
     "text": [
      "Switched to branch 'master'\n"
     ]
    }
   ],
   "source": [
    "%%bash\n",
    "cd data_project\n",
    "git checkout master"
   ]
  },
  {
   "cell_type": "markdown",
   "metadata": {},
   "source": [
    "9. Merge the `feature-exploration` branch into the `main` (or `master`) branch."
   ]
  },
  {
   "cell_type": "code",
   "execution_count": 17,
   "metadata": {},
   "outputs": [
    {
     "name": "stdout",
     "output_type": "stream",
     "text": [
      "Updating c416572..eefd0e7\n",
      "Fast-forward\n",
      " exploratory_analysis.py | 0\n",
      " 1 file changed, 0 insertions(+), 0 deletions(-)\n",
      " create mode 100644 exploratory_analysis.py\n"
     ]
    }
   ],
   "source": [
    "%%bash\n",
    "cd data_project\n",
    "git merge feature-exploration"
   ]
  },
  {
   "cell_type": "markdown",
   "metadata": {},
   "source": [
    "10. Commit the merge and list all the branches in your repository."
   ]
  },
  {
   "cell_type": "code",
   "execution_count": 18,
   "metadata": {},
   "outputs": [
    {
     "name": "stderr",
     "output_type": "stream",
     "text": [
      "bash: line 3: feature-exploration: command not found\n"
     ]
    },
    {
     "name": "stdout",
     "output_type": "stream",
     "text": [
      "On branch master\n",
      "nothing to commit, working tree clean\n",
      "  feature-exploration\n",
      "* master\n"
     ]
    }
   ],
   "source": [
    "%%bash\n",
    "cd data_project\n",
    "git add . \n",
    "git commit -m \"Merged `feature-exploration` branch onto master\"\n",
    "git branch"
   ]
  }
 ],
 "metadata": {
  "kernelspec": {
   "display_name": "base",
   "language": "python",
   "name": "python3"
  },
  "language_info": {
   "codemirror_mode": {
    "name": "ipython",
    "version": 3
   },
   "file_extension": ".py",
   "mimetype": "text/x-python",
   "name": "python",
   "nbconvert_exporter": "python",
   "pygments_lexer": "ipython3",
   "version": "3.11.4"
  }
 },
 "nbformat": 4,
 "nbformat_minor": 2
}
